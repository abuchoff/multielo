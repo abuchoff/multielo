{
 "cells": [
  {
   "cell_type": "markdown",
   "metadata": {},
   "source": [
    "# Table of Contents\n",
    "\n",
    "* [import libraries](#1)\n",
    "* [using MultiElo to calculate changes in Elo ratings](#2)\n",
    "  + [default parameter values](#2a)\n",
    "* [using Player and Tracker to track ratings over time](#3)\n",
    "  + [the Player object](#3a)\n",
    "  + [the Tracker object](#3b)\n",
    "* [handling ties](#4)\n",
    "* [saving and loading ratings / batch processing](#5)\n",
    "  + [deciding whether to save the rating history](#5a)\n",
    "* [logging](#6)"
   ]
  },
  {
   "cell_type": "markdown",
   "metadata": {},
   "source": [
    "# import libraries <a name=\"1\"></a>"
   ]
  },
  {
   "cell_type": "code",
   "execution_count": 1,
   "metadata": {},
   "outputs": [],
   "source": [
    "from multielo import MultiElo, Player, Tracker\n",
    "import pandas as pd"
   ]
  },
  {
   "cell_type": "markdown",
   "metadata": {},
   "source": [
    "# using `MultiElo` to calculate changes in Elo ratings <a name=\"2\"></a>"
   ]
  },
  {
   "cell_type": "markdown",
   "metadata": {},
   "source": [
    "Suppose we have a matchup where a player with an Elo rating of 1200 beats a player with an Elo rating of 1000. We can use the get_new_ratings method to calculate the new Elo ratings for those players. The ratings should be listed in the order of finish."
   ]
  },
  {
   "cell_type": "code",
   "execution_count": 2,
   "metadata": {},
   "outputs": [
    {
     "data": {
      "text/plain": [
       "array([1207.68809835,  992.31190165])"
      ]
     },
     "execution_count": 2,
     "metadata": {},
     "output_type": "execute_result"
    }
   ],
   "source": [
    "result = [1200, 1000]\n",
    "\n",
    "elo = MultiElo()  # uses the default parameter values if nothing is supplied\n",
    "elo.get_new_ratings(result)"
   ]
  },
  {
   "cell_type": "markdown",
   "metadata": {},
   "source": [
    "We can pass different parameter values to the MultiElo object if we don't want to use the default values."
   ]
  },
  {
   "cell_type": "code",
   "execution_count": 3,
   "metadata": {},
   "outputs": [
    {
     "data": {
      "text/plain": [
       "array([1223.03584001,  976.96415999])"
      ]
     },
     "execution_count": 3,
     "metadata": {},
     "output_type": "execute_result"
    }
   ],
   "source": [
    "elo_custom = MultiElo(k_value=64, d_value=800)\n",
    "elo_custom.get_new_ratings(result)"
   ]
  },
  {
   "cell_type": "markdown",
   "metadata": {},
   "source": [
    "We can also use the get_expected_scores method to get the expected scores for each player (in 1-on-1 matchups, this can be interpreted as the predicted win probability)."
   ]
  },
  {
   "cell_type": "code",
   "execution_count": 4,
   "metadata": {},
   "outputs": [
    {
     "data": {
      "text/plain": [
       "array([0.75974693, 0.24025307])"
      ]
     },
     "execution_count": 4,
     "metadata": {},
     "output_type": "execute_result"
    }
   ],
   "source": [
    "elo.get_expected_scores(result)"
   ]
  },
  {
   "cell_type": "markdown",
   "metadata": {},
   "source": [
    "We can calculate expected scores and new Elo ratings for multiplayer matchups using the same `MultiElo` object. The methodology behind this implementation of multiplayer Elo is described in the README. In this four-player example, a player with a 1200 rating comes in 1st, 1000 comes in second, 800 comes in third, and 900 comes in last."
   ]
  },
  {
   "cell_type": "code",
   "execution_count": 5,
   "metadata": {},
   "outputs": [],
   "source": [
    "multiplayer_result = [1200, 1000, 800, 900]"
   ]
  },
  {
   "cell_type": "code",
   "execution_count": 6,
   "metadata": {},
   "outputs": [
    {
     "data": {
      "text/plain": [
       "array([1207.71426754, 1005.75896   ,  804.94244537,  881.58432708])"
      ]
     },
     "execution_count": 6,
     "metadata": {},
     "output_type": "execute_result"
    }
   ],
   "source": [
    "elo.get_new_ratings(multiplayer_result)"
   ]
  },
  {
   "cell_type": "code",
   "execution_count": 7,
   "metadata": {},
   "outputs": [
    {
     "data": {
      "text/plain": [
       "array([0.41964305, 0.27334417, 0.11518286, 0.19182993])"
      ]
     },
     "execution_count": 7,
     "metadata": {},
     "output_type": "execute_result"
    }
   ],
   "source": [
    "# the expected scores are less interpretable than the 1-on-1 case\n",
    "elo.get_expected_scores(multiplayer_result)"
   ]
  },
  {
   "cell_type": "markdown",
   "metadata": {},
   "source": [
    "Given the ratings of all players involved in a game, we can estimate the probability of each player finishing in each possible place (1st, 2nd, ..., last). **Note:** This calculation is done using a simulation so the probabilities will not be exact and they may change if you use a different random seed."
   ]
  },
  {
   "cell_type": "code",
   "execution_count": 8,
   "metadata": {},
   "outputs": [
    {
     "data": {
      "text/plain": [
       "array([[0.62369, 0.27832, 0.08497, 0.01302],\n",
       "       [0.19969, 0.37015, 0.30186, 0.1283 ],\n",
       "       [0.06344, 0.1291 , 0.24257, 0.56489],\n",
       "       [0.11318, 0.22243, 0.3706 , 0.29379]])"
      ]
     },
     "execution_count": 8,
     "metadata": {},
     "output_type": "execute_result"
    }
   ],
   "source": [
    "# (i, j) value is probability that player i finishes in place j\n",
    "elo.simulate_win_probabilities([1200, 1000, 800, 900])"
   ]
  },
  {
   "cell_type": "markdown",
   "metadata": {},
   "source": [
    "## default parameter values <a name=\"2a\"></a>"
   ]
  },
  {
   "cell_type": "markdown",
   "metadata": {},
   "source": [
    "As alluded to above, Elo has a few parameters that need to be set. I picked some arbitrary but pretty standard values. (Except the scoring function -- that isn't part of standard 1-vs-1 Elo.)\n",
    "\n",
    "The parameters are discussed in more detail in the README."
   ]
  },
  {
   "cell_type": "code",
   "execution_count": 9,
   "metadata": {},
   "outputs": [
    {
     "name": "stdout",
     "output_type": "stream",
     "text": [
      "DEFAULT_K_VALUE: 32\n",
      "DEFAULT_D_VALUE: 400\n",
      "DEFAULT_SCORING_FUNCTION_BASE: 1\n"
     ]
    }
   ],
   "source": [
    "from multielo.multielo import DEFAULT_K_VALUE, DEFAULT_D_VALUE, DEFAULT_SCORING_FUNCTION_BASE\n",
    "\n",
    "print(f\"DEFAULT_K_VALUE: {DEFAULT_K_VALUE}\")\n",
    "print(f\"DEFAULT_D_VALUE: {DEFAULT_D_VALUE}\")\n",
    "print(f\"DEFAULT_SCORING_FUNCTION_BASE: {DEFAULT_SCORING_FUNCTION_BASE}\")"
   ]
  },
  {
   "cell_type": "markdown",
   "metadata": {},
   "source": [
    "Given the ratings of all players involved in a game, we can estimate the probability of each player finishing in each possible place (1st, 2nd, ..., last). **Note:** This calculation is done using a simulation so the probabilities will not be exact and they may change if you use a different random seed."
   ]
  },
  {
   "cell_type": "code",
   "execution_count": 10,
   "metadata": {},
   "outputs": [
    {
     "data": {
      "text/plain": [
       "array([[0.6271 , 0.27717, 0.08288, 0.01285],\n",
       "       [0.19932, 0.37078, 0.30143, 0.12847],\n",
       "       [0.06253, 0.12959, 0.24625, 0.56163],\n",
       "       [0.11105, 0.22246, 0.36944, 0.29705]])"
      ]
     },
     "execution_count": 10,
     "metadata": {},
     "output_type": "execute_result"
    }
   ],
   "source": [
    "# (i, j) value is probability that player i finishes in place j\n",
    "elo.simulate_win_probabilities([1200, 1000, 800, 900])"
   ]
  },
  {
   "cell_type": "markdown",
   "metadata": {},
   "source": [
    "# using `Player` and `Tracker` to track ratings over time <a name=\"3\"></a>"
   ]
  },
  {
   "cell_type": "markdown",
   "metadata": {},
   "source": [
    "The package includes two objects -- `Player` and `Tracker` -- that make it easy to track Elo ratings over time. For example, if you have a league with players or teams that play each other multiple times, the `Tracker` object is useful."
   ]
  },
  {
   "cell_type": "markdown",
   "metadata": {},
   "source": [
    "## the `Player` object <a name=\"3a\"></a>\n",
    "\n",
    "This object track's a single player's Elo rating over time. Each player requires a player ID and you can supply an initial rating or the default value will be used."
   ]
  },
  {
   "cell_type": "code",
   "execution_count": 11,
   "metadata": {},
   "outputs": [],
   "source": [
    "player_default = Player(\"player_A\")\n",
    "player_custom = Player(\"player_B\", rating=1200)"
   ]
  },
  {
   "cell_type": "code",
   "execution_count": 12,
   "metadata": {},
   "outputs": [
    {
     "data": {
      "text/plain": [
       "(Player(id = player_A, rating = 1000.00, n_games = 0),\n",
       " Player(id = player_B, rating = 1200.00, n_games = 0))"
      ]
     },
     "execution_count": 12,
     "metadata": {},
     "output_type": "execute_result"
    }
   ],
   "source": [
    "player_default, player_custom"
   ]
  },
  {
   "cell_type": "markdown",
   "metadata": {},
   "source": [
    "We can update a player's rating with the update_rating method. Specifying a date will record the change as a game result. Dates can be any sortable value such that sorting in ascending order will order the dates from earliest to latest -- strings in \"YYYY-MM-DD\" format or integers work well."
   ]
  },
  {
   "cell_type": "code",
   "execution_count": 13,
   "metadata": {},
   "outputs": [
    {
     "data": {
      "text/plain": [
       "Player(id = player_A, rating = 1075.00, n_games = 2)"
      ]
     },
     "execution_count": 13,
     "metadata": {},
     "output_type": "execute_result"
    }
   ],
   "source": [
    "player_default.update_rating(1050, date=\"2020-07-01\")\n",
    "player_default.update_rating(1075, date=\"2020-07-15\")\n",
    "\n",
    "player_default"
   ]
  },
  {
   "cell_type": "markdown",
   "metadata": {},
   "source": [
    "The rating_history attribute displays the Elo rating history for the player. Each entry is a (date, rating) tuple. The first entry is assumed to be an initial rating before any games were played and all subsequent entries will be counted as games."
   ]
  },
  {
   "cell_type": "code",
   "execution_count": 14,
   "metadata": {},
   "outputs": [
    {
     "data": {
      "text/plain": [
       "[(None, 1000), ('2020-07-01', 1050), ('2020-07-15', 1075)]"
      ]
     },
     "execution_count": 14,
     "metadata": {},
     "output_type": "execute_result"
    }
   ],
   "source": [
    "player_default.rating_history"
   ]
  },
  {
   "cell_type": "code",
   "execution_count": 15,
   "metadata": {},
   "outputs": [
    {
     "data": {
      "text/plain": [
       "2"
      ]
     },
     "execution_count": 15,
     "metadata": {},
     "output_type": "execute_result"
    }
   ],
   "source": [
    "player_default.count_games()"
   ]
  },
  {
   "cell_type": "markdown",
   "metadata": {},
   "source": [
    "We can also obtain the player's rating as of any date using the get_rating_as_of_date method."
   ]
  },
  {
   "cell_type": "code",
   "execution_count": 16,
   "metadata": {},
   "outputs": [
    {
     "data": {
      "text/plain": [
       "1050"
      ]
     },
     "execution_count": 16,
     "metadata": {},
     "output_type": "execute_result"
    }
   ],
   "source": [
    "player_default.get_rating_as_of_date(\"2020-07-05\")"
   ]
  },
  {
   "cell_type": "markdown",
   "metadata": {},
   "source": [
    "## the `Tracker` object <a name=\"3b\"></a>\n",
    "\n",
    "This object stores multiple `Player` objects and updates the ratings of those players as matchups occur. The tracker is useful for processing many matchup matchup results and viewing the historical Elo ratings of all players in the tracker (e.g., all players/teams in a league).\n",
    "\n",
    "A pandas dataframe of results is required for the tracker. The dataframe must have a column for the date of the matchup and columns for the places that players finished in for that matchup. The place columns can be named anything, but it is assumed that 1st to last goes from the leftmost column to the rightmost column. Note that there can be a different number of players in each matchup."
   ]
  },
  {
   "cell_type": "code",
   "execution_count": 17,
   "metadata": {},
   "outputs": [
    {
     "data": {
      "text/html": [
       "<div>\n",
       "<style scoped>\n",
       "    .dataframe tbody tr th:only-of-type {\n",
       "        vertical-align: middle;\n",
       "    }\n",
       "\n",
       "    .dataframe tbody tr th {\n",
       "        vertical-align: top;\n",
       "    }\n",
       "\n",
       "    .dataframe thead th {\n",
       "        text-align: right;\n",
       "    }\n",
       "</style>\n",
       "<table border=\"1\" class=\"dataframe\">\n",
       "  <thead>\n",
       "    <tr style=\"text-align: right;\">\n",
       "      <th></th>\n",
       "      <th>date</th>\n",
       "      <th>1st</th>\n",
       "      <th>2nd</th>\n",
       "      <th>3rd</th>\n",
       "      <th>4th</th>\n",
       "    </tr>\n",
       "  </thead>\n",
       "  <tbody>\n",
       "    <tr>\n",
       "      <th>0</th>\n",
       "      <td>2020-03-29</td>\n",
       "      <td>Homer</td>\n",
       "      <td>Marge</td>\n",
       "      <td>Bart</td>\n",
       "      <td>None</td>\n",
       "    </tr>\n",
       "    <tr>\n",
       "      <th>1</th>\n",
       "      <td>2020-04-05</td>\n",
       "      <td>Lisa</td>\n",
       "      <td>Bart</td>\n",
       "      <td>Homer</td>\n",
       "      <td>None</td>\n",
       "    </tr>\n",
       "    <tr>\n",
       "      <th>2</th>\n",
       "      <td>2020-04-12</td>\n",
       "      <td>Lisa</td>\n",
       "      <td>Marge</td>\n",
       "      <td>Homer</td>\n",
       "      <td>Bart</td>\n",
       "    </tr>\n",
       "    <tr>\n",
       "      <th>3</th>\n",
       "      <td>2020-04-19</td>\n",
       "      <td>Marge</td>\n",
       "      <td>Lisa</td>\n",
       "      <td>None</td>\n",
       "      <td>None</td>\n",
       "    </tr>\n",
       "  </tbody>\n",
       "</table>\n",
       "</div>"
      ],
      "text/plain": [
       "         date    1st    2nd    3rd   4th\n",
       "0  2020-03-29  Homer  Marge   Bart  None\n",
       "1  2020-04-05   Lisa   Bart  Homer  None\n",
       "2  2020-04-12   Lisa  Marge  Homer  Bart\n",
       "3  2020-04-19  Marge   Lisa   None  None"
      ]
     },
     "execution_count": 17,
     "metadata": {},
     "output_type": "execute_result"
    }
   ],
   "source": [
    "data = pd.DataFrame({\n",
    "    \"date\": [\"2020-03-29\", \"2020-04-05\", \"2020-04-12\", \"2020-04-19\"],\n",
    "    \"1st\": [\"Homer\", \"Lisa\", \"Lisa\", \"Marge\"],\n",
    "    \"2nd\": [\"Marge\", \"Bart\", \"Marge\", \"Lisa\"],\n",
    "    \"3rd\": [\"Bart\", \"Homer\", \"Homer\", None],\n",
    "    \"4th\": [None, None, \"Bart\", None]\n",
    "})\n",
    "\n",
    "data"
   ]
  },
  {
   "cell_type": "markdown",
   "metadata": {},
   "source": [
    "The process_data method is used to calculate the current and historical ratings for all players. The tracker will loop through the supplied dataframe from the earliest to latest date and update Elo for all players involved in each matchup. New `Player` objects will be created when a player ID (the name in the dataframe) is encountered for the first time. "
   ]
  },
  {
   "cell_type": "code",
   "execution_count": 18,
   "metadata": {},
   "outputs": [],
   "source": [
    "tracker = Tracker()\n",
    "tracker.process_data(data)"
   ]
  },
  {
   "cell_type": "markdown",
   "metadata": {},
   "source": [
    "After processing the data we can easily view the current and historical ratings for all players."
   ]
  },
  {
   "cell_type": "code",
   "execution_count": 19,
   "metadata": {},
   "outputs": [],
   "source": [
    "tracker = Tracker()\n",
    "tracker.process_data(data)"
   ]
  },
  {
   "cell_type": "code",
   "execution_count": 20,
   "metadata": {},
   "outputs": [
    {
     "data": {
      "text/html": [
       "<div>\n",
       "<style scoped>\n",
       "    .dataframe tbody tr th:only-of-type {\n",
       "        vertical-align: middle;\n",
       "    }\n",
       "\n",
       "    .dataframe tbody tr th {\n",
       "        vertical-align: top;\n",
       "    }\n",
       "\n",
       "    .dataframe thead th {\n",
       "        text-align: right;\n",
       "    }\n",
       "</style>\n",
       "<table border=\"1\" class=\"dataframe\">\n",
       "  <thead>\n",
       "    <tr style=\"text-align: right;\">\n",
       "      <th></th>\n",
       "      <th>rank</th>\n",
       "      <th>player_id</th>\n",
       "      <th>n_games</th>\n",
       "      <th>rating</th>\n",
       "    </tr>\n",
       "  </thead>\n",
       "  <tbody>\n",
       "    <tr>\n",
       "      <th>0</th>\n",
       "      <td>1</td>\n",
       "      <td>Lisa</td>\n",
       "      <td>3</td>\n",
       "      <td>1025.750704</td>\n",
       "    </tr>\n",
       "    <tr>\n",
       "      <th>1</th>\n",
       "      <td>2</td>\n",
       "      <td>Marge</td>\n",
       "      <td>3</td>\n",
       "      <td>1025.623287</td>\n",
       "    </tr>\n",
       "    <tr>\n",
       "      <th>2</th>\n",
       "      <td>3</td>\n",
       "      <td>Homer</td>\n",
       "      <td>3</td>\n",
       "      <td>990.222321</td>\n",
       "    </tr>\n",
       "    <tr>\n",
       "      <th>3</th>\n",
       "      <td>4</td>\n",
       "      <td>Bart</td>\n",
       "      <td>3</td>\n",
       "      <td>958.403688</td>\n",
       "    </tr>\n",
       "  </tbody>\n",
       "</table>\n",
       "</div>"
      ],
      "text/plain": [
       "   rank player_id  n_games       rating\n",
       "0     1      Lisa        3  1025.750704\n",
       "1     2     Marge        3  1025.623287\n",
       "2     3     Homer        3   990.222321\n",
       "3     4      Bart        3   958.403688"
      ]
     },
     "execution_count": 20,
     "metadata": {},
     "output_type": "execute_result"
    }
   ],
   "source": [
    "tracker.get_current_ratings()"
   ]
  },
  {
   "cell_type": "code",
   "execution_count": 21,
   "metadata": {},
   "outputs": [
    {
     "data": {
      "text/html": [
       "<div>\n",
       "<style scoped>\n",
       "    .dataframe tbody tr th:only-of-type {\n",
       "        vertical-align: middle;\n",
       "    }\n",
       "\n",
       "    .dataframe tbody tr th {\n",
       "        vertical-align: top;\n",
       "    }\n",
       "\n",
       "    .dataframe thead th {\n",
       "        text-align: right;\n",
       "    }\n",
       "</style>\n",
       "<table border=\"1\" class=\"dataframe\">\n",
       "  <thead>\n",
       "    <tr style=\"text-align: right;\">\n",
       "      <th></th>\n",
       "      <th>player_id</th>\n",
       "      <th>date</th>\n",
       "      <th>rating</th>\n",
       "    </tr>\n",
       "  </thead>\n",
       "  <tbody>\n",
       "    <tr>\n",
       "      <th>0</th>\n",
       "      <td>Homer</td>\n",
       "      <td>2020-03-29</td>\n",
       "      <td>1021.333333</td>\n",
       "    </tr>\n",
       "    <tr>\n",
       "      <th>1</th>\n",
       "      <td>Homer</td>\n",
       "      <td>2020-04-05</td>\n",
       "      <td>998.042495</td>\n",
       "    </tr>\n",
       "    <tr>\n",
       "      <th>2</th>\n",
       "      <td>Homer</td>\n",
       "      <td>2020-04-12</td>\n",
       "      <td>990.222321</td>\n",
       "    </tr>\n",
       "    <tr>\n",
       "      <th>3</th>\n",
       "      <td>Marge</td>\n",
       "      <td>2020-03-29</td>\n",
       "      <td>1000.000000</td>\n",
       "    </tr>\n",
       "    <tr>\n",
       "      <th>4</th>\n",
       "      <td>Marge</td>\n",
       "      <td>2020-04-12</td>\n",
       "      <td>1007.999846</td>\n",
       "    </tr>\n",
       "    <tr>\n",
       "      <th>5</th>\n",
       "      <td>Marge</td>\n",
       "      <td>2020-04-19</td>\n",
       "      <td>1025.623287</td>\n",
       "    </tr>\n",
       "    <tr>\n",
       "      <th>6</th>\n",
       "      <td>Bart</td>\n",
       "      <td>2020-03-29</td>\n",
       "      <td>978.666667</td>\n",
       "    </tr>\n",
       "    <tr>\n",
       "      <th>7</th>\n",
       "      <td>Bart</td>\n",
       "      <td>2020-04-05</td>\n",
       "      <td>980.624172</td>\n",
       "    </tr>\n",
       "    <tr>\n",
       "      <th>8</th>\n",
       "      <td>Bart</td>\n",
       "      <td>2020-04-12</td>\n",
       "      <td>958.403688</td>\n",
       "    </tr>\n",
       "    <tr>\n",
       "      <th>9</th>\n",
       "      <td>Lisa</td>\n",
       "      <td>2020-04-05</td>\n",
       "      <td>1021.333333</td>\n",
       "    </tr>\n",
       "    <tr>\n",
       "      <th>10</th>\n",
       "      <td>Lisa</td>\n",
       "      <td>2020-04-12</td>\n",
       "      <td>1043.374145</td>\n",
       "    </tr>\n",
       "    <tr>\n",
       "      <th>11</th>\n",
       "      <td>Lisa</td>\n",
       "      <td>2020-04-19</td>\n",
       "      <td>1025.750704</td>\n",
       "    </tr>\n",
       "  </tbody>\n",
       "</table>\n",
       "</div>"
      ],
      "text/plain": [
       "   player_id        date       rating\n",
       "0      Homer  2020-03-29  1021.333333\n",
       "1      Homer  2020-04-05   998.042495\n",
       "2      Homer  2020-04-12   990.222321\n",
       "3      Marge  2020-03-29  1000.000000\n",
       "4      Marge  2020-04-12  1007.999846\n",
       "5      Marge  2020-04-19  1025.623287\n",
       "6       Bart  2020-03-29   978.666667\n",
       "7       Bart  2020-04-05   980.624172\n",
       "8       Bart  2020-04-12   958.403688\n",
       "9       Lisa  2020-04-05  1021.333333\n",
       "10      Lisa  2020-04-12  1043.374145\n",
       "11      Lisa  2020-04-19  1025.750704"
      ]
     },
     "execution_count": 21,
     "metadata": {},
     "output_type": "execute_result"
    }
   ],
   "source": [
    "tracker.get_history_df()"
   ]
  },
  {
   "cell_type": "markdown",
   "metadata": {},
   "source": [
    "It is also easy to plot the Elo rating history of all players over time."
   ]
  },
  {
   "cell_type": "code",
   "execution_count": 22,
   "metadata": {},
   "outputs": [
    {
     "data": {
      "text/html": [
       "\n",
       "<div id=\"altair-viz-319d97e7868e4dd2b98b1a31af17d3de\"></div>\n",
       "<script type=\"text/javascript\">\n",
       "  (function(spec, embedOpt){\n",
       "    let outputDiv = document.currentScript.previousElementSibling;\n",
       "    if (outputDiv.id !== \"altair-viz-319d97e7868e4dd2b98b1a31af17d3de\") {\n",
       "      outputDiv = document.getElementById(\"altair-viz-319d97e7868e4dd2b98b1a31af17d3de\");\n",
       "    }\n",
       "    const paths = {\n",
       "      \"vega\": \"https://cdn.jsdelivr.net/npm//vega@5?noext\",\n",
       "      \"vega-lib\": \"https://cdn.jsdelivr.net/npm//vega-lib?noext\",\n",
       "      \"vega-lite\": \"https://cdn.jsdelivr.net/npm//vega-lite@4.8.1?noext\",\n",
       "      \"vega-embed\": \"https://cdn.jsdelivr.net/npm//vega-embed@6?noext\",\n",
       "    };\n",
       "\n",
       "    function loadScript(lib) {\n",
       "      return new Promise(function(resolve, reject) {\n",
       "        var s = document.createElement('script');\n",
       "        s.src = paths[lib];\n",
       "        s.async = true;\n",
       "        s.onload = () => resolve(paths[lib]);\n",
       "        s.onerror = () => reject(`Error loading script: ${paths[lib]}`);\n",
       "        document.getElementsByTagName(\"head\")[0].appendChild(s);\n",
       "      });\n",
       "    }\n",
       "\n",
       "    function showError(err) {\n",
       "      outputDiv.innerHTML = `<div class=\"error\" style=\"color:red;\">${err}</div>`;\n",
       "      throw err;\n",
       "    }\n",
       "\n",
       "    function displayChart(vegaEmbed) {\n",
       "      vegaEmbed(outputDiv, spec, embedOpt)\n",
       "        .catch(err => showError(`Javascript Error: ${err.message}<br>This usually means there's a typo in your chart specification. See the javascript console for the full traceback.`));\n",
       "    }\n",
       "\n",
       "    if(typeof define === \"function\" && define.amd) {\n",
       "      requirejs.config({paths});\n",
       "      require([\"vega-embed\"], displayChart, err => showError(`Error loading script: ${err.message}`));\n",
       "    } else if (typeof vegaEmbed === \"function\") {\n",
       "      displayChart(vegaEmbed);\n",
       "    } else {\n",
       "      loadScript(\"vega\")\n",
       "        .then(() => loadScript(\"vega-lite\"))\n",
       "        .then(() => loadScript(\"vega-embed\"))\n",
       "        .catch(showError)\n",
       "        .then(() => displayChart(vegaEmbed));\n",
       "    }\n",
       "  })({\"config\": {\"view\": {\"continuousWidth\": 400, \"continuousHeight\": 300}}, \"data\": {\"name\": \"data-b744fd20c79aebaabe02f727f86baa8e\"}, \"mark\": {\"type\": \"line\", \"point\": true}, \"encoding\": {\"color\": {\"type\": \"nominal\", \"field\": \"player_id\"}, \"x\": {\"type\": \"temporal\", \"field\": \"date\"}, \"y\": {\"type\": \"quantitative\", \"field\": \"rating\", \"scale\": {\"zero\": false}}}, \"$schema\": \"https://vega.github.io/schema/vega-lite/v4.8.1.json\", \"datasets\": {\"data-b744fd20c79aebaabe02f727f86baa8e\": [{\"player_id\": \"Homer\", \"date\": \"2020-03-29\", \"rating\": 1021.3333333333334}, {\"player_id\": \"Homer\", \"date\": \"2020-04-05\", \"rating\": 998.0424947047769}, {\"player_id\": \"Homer\", \"date\": \"2020-04-12\", \"rating\": 990.2223209086937}, {\"player_id\": \"Marge\", \"date\": \"2020-03-29\", \"rating\": 1000.0}, {\"player_id\": \"Marge\", \"date\": \"2020-04-12\", \"rating\": 1007.9998460111731}, {\"player_id\": \"Marge\", \"date\": \"2020-04-19\", \"rating\": 1025.62328683215}, {\"player_id\": \"Bart\", \"date\": \"2020-03-29\", \"rating\": 978.6666666666666}, {\"player_id\": \"Bart\", \"date\": \"2020-04-05\", \"rating\": 980.6241719618897}, {\"player_id\": \"Bart\", \"date\": \"2020-04-12\", \"rating\": 958.4036878228786}, {\"player_id\": \"Lisa\", \"date\": \"2020-04-05\", \"rating\": 1021.3333333333334}, {\"player_id\": \"Lisa\", \"date\": \"2020-04-12\", \"rating\": 1043.3741452572547}, {\"player_id\": \"Lisa\", \"date\": \"2020-04-19\", \"rating\": 1025.7507044362778}]}}, {\"mode\": \"vega-lite\"});\n",
       "</script>"
      ],
      "text/plain": [
       "alt.Chart(...)"
      ]
     },
     "execution_count": 22,
     "metadata": {},
     "output_type": "execute_result"
    }
   ],
   "source": [
    "import altair as alt\n",
    "\n",
    "df = tracker.get_history_df()\n",
    "alt.Chart(df).mark_line(point=True).encode(\n",
    "    x=\"date:T\",\n",
    "    y=alt.Y(\"rating:Q\", scale=alt.Scale(zero=False)),\n",
    "    color=\"player_id:N\",\n",
    ")"
   ]
  },
  {
   "cell_type": "markdown",
   "metadata": {},
   "source": [
    "By default, the `Tracker` object uses a `MultiElo` object with all default settings to calculate changes in Elo rating. The user can alternatively pass in a `MultiElo` object with any settings, which will affect the results. For example, larger K means rankings change more in each individual matchup."
   ]
  },
  {
   "cell_type": "code",
   "execution_count": 23,
   "metadata": {},
   "outputs": [
    {
     "data": {
      "text/html": [
       "<div>\n",
       "<style scoped>\n",
       "    .dataframe tbody tr th:only-of-type {\n",
       "        vertical-align: middle;\n",
       "    }\n",
       "\n",
       "    .dataframe tbody tr th {\n",
       "        vertical-align: top;\n",
       "    }\n",
       "\n",
       "    .dataframe thead th {\n",
       "        text-align: right;\n",
       "    }\n",
       "</style>\n",
       "<table border=\"1\" class=\"dataframe\">\n",
       "  <thead>\n",
       "    <tr style=\"text-align: right;\">\n",
       "      <th></th>\n",
       "      <th>rank</th>\n",
       "      <th>player_id</th>\n",
       "      <th>n_games</th>\n",
       "      <th>rating</th>\n",
       "    </tr>\n",
       "  </thead>\n",
       "  <tbody>\n",
       "    <tr>\n",
       "      <th>0</th>\n",
       "      <td>1</td>\n",
       "      <td>Marge</td>\n",
       "      <td>3</td>\n",
       "      <td>1117.029251</td>\n",
       "    </tr>\n",
       "    <tr>\n",
       "      <th>1</th>\n",
       "      <td>2</td>\n",
       "      <td>Lisa</td>\n",
       "      <td>3</td>\n",
       "      <td>1065.955505</td>\n",
       "    </tr>\n",
       "    <tr>\n",
       "      <th>2</th>\n",
       "      <td>3</td>\n",
       "      <td>Homer</td>\n",
       "      <td>3</td>\n",
       "      <td>948.872182</td>\n",
       "    </tr>\n",
       "    <tr>\n",
       "      <th>3</th>\n",
       "      <td>4</td>\n",
       "      <td>Bart</td>\n",
       "      <td>3</td>\n",
       "      <td>868.143061</td>\n",
       "    </tr>\n",
       "  </tbody>\n",
       "</table>\n",
       "</div>"
      ],
      "text/plain": [
       "   rank player_id  n_games       rating\n",
       "0     1     Marge        3  1117.029251\n",
       "1     2      Lisa        3  1065.955505\n",
       "2     3     Homer        3   948.872182\n",
       "3     4      Bart        3   868.143061"
      ]
     },
     "execution_count": 23,
     "metadata": {},
     "output_type": "execute_result"
    }
   ],
   "source": [
    "k = 128\n",
    "bigk_elo = MultiElo(k_value=k)\n",
    "bigk_tracker = Tracker(elo_rater=bigk_elo)\n",
    "bigk_tracker.process_data(data)\n",
    "\n",
    "bigk_tracker.get_current_ratings()"
   ]
  },
  {
   "cell_type": "markdown",
   "metadata": {},
   "source": [
    "The chosen scoring function has a large effect on the rankings because it determines the relative value of finishing first, second, third, etc. The default scoring function (the \"linear score function\") used in the example above doesn't provide proportionally more value to finishing first (i.e., moving from 6th to 5th is as good as improving from 2nd to 1st).\n",
    "\n",
    "To provide more value to the top finishers, we can use an \"exponential score function\". The example below uses an exponential score function with a base of 1.5. Note that the final rating values are different from the example using the linear score function above."
   ]
  },
  {
   "cell_type": "code",
   "execution_count": 24,
   "metadata": {},
   "outputs": [
    {
     "data": {
      "text/html": [
       "<div>\n",
       "<style scoped>\n",
       "    .dataframe tbody tr th:only-of-type {\n",
       "        vertical-align: middle;\n",
       "    }\n",
       "\n",
       "    .dataframe tbody tr th {\n",
       "        vertical-align: top;\n",
       "    }\n",
       "\n",
       "    .dataframe thead th {\n",
       "        text-align: right;\n",
       "    }\n",
       "</style>\n",
       "<table border=\"1\" class=\"dataframe\">\n",
       "  <thead>\n",
       "    <tr style=\"text-align: right;\">\n",
       "      <th></th>\n",
       "      <th>rank</th>\n",
       "      <th>player_id</th>\n",
       "      <th>n_games</th>\n",
       "      <th>rating</th>\n",
       "    </tr>\n",
       "  </thead>\n",
       "  <tbody>\n",
       "    <tr>\n",
       "      <th>0</th>\n",
       "      <td>1</td>\n",
       "      <td>Lisa</td>\n",
       "      <td>3</td>\n",
       "      <td>1035.161374</td>\n",
       "    </tr>\n",
       "    <tr>\n",
       "      <th>1</th>\n",
       "      <td>2</td>\n",
       "      <td>Marge</td>\n",
       "      <td>3</td>\n",
       "      <td>1020.663059</td>\n",
       "    </tr>\n",
       "    <tr>\n",
       "      <th>2</th>\n",
       "      <td>3</td>\n",
       "      <td>Homer</td>\n",
       "      <td>3</td>\n",
       "      <td>988.457875</td>\n",
       "    </tr>\n",
       "    <tr>\n",
       "      <th>3</th>\n",
       "      <td>4</td>\n",
       "      <td>Bart</td>\n",
       "      <td>3</td>\n",
       "      <td>955.717692</td>\n",
       "    </tr>\n",
       "  </tbody>\n",
       "</table>\n",
       "</div>"
      ],
      "text/plain": [
       "   rank player_id  n_games       rating\n",
       "0     1      Lisa        3  1035.161374\n",
       "1     2     Marge        3  1020.663059\n",
       "2     3     Homer        3   988.457875\n",
       "3     4      Bart        3   955.717692"
      ]
     },
     "execution_count": 24,
     "metadata": {},
     "output_type": "execute_result"
    }
   ],
   "source": [
    "exp_elo = MultiElo(score_function_base=1.5)\n",
    "exp_tracker = Tracker(elo_rater=exp_elo)\n",
    "exp_tracker.process_data(data)\n",
    "\n",
    "exp_tracker.get_current_ratings()"
   ]
  },
  {
   "cell_type": "markdown",
   "metadata": {},
   "source": [
    "# handling ties <a name=\"4\"></a>\n",
    "\n",
    "As of version 0.3.0, this Elo implementation can handle ties. The syntax to annotate ties in the `MultiElo` and `Tracker` objects is shown below.\n",
    "\n",
    "In `MultiElo`, use the result_order parameter to indicate which place each player finished in, where lower indicates a better finishing position. (Note: the exact values do not matter -- they just need to be increasing)"
   ]
  },
  {
   "cell_type": "code",
   "execution_count": 25,
   "metadata": {},
   "outputs": [
    {
     "data": {
      "text/plain": [
       "array([1207.68809835,  992.31190165])"
      ]
     },
     "execution_count": 25,
     "metadata": {},
     "output_type": "execute_result"
    }
   ],
   "source": [
    "# first player beat the second in a two-player matchup (default)\n",
    "elo.get_new_ratings([1200, 1000], result_order=[1, 2])"
   ]
  },
  {
   "cell_type": "code",
   "execution_count": 26,
   "metadata": {},
   "outputs": [
    {
     "data": {
      "text/plain": [
       "array([1191.68809835, 1008.31190165])"
      ]
     },
     "execution_count": 26,
     "metadata": {},
     "output_type": "execute_result"
    }
   ],
   "source": [
    "# two players tied in a two-player matchup\n",
    "elo.get_new_ratings([1200, 1000], result_order=[1, 1])"
   ]
  },
  {
   "cell_type": "code",
   "execution_count": 27,
   "metadata": {},
   "outputs": [
    {
     "data": {
      "text/plain": [
       "array([1196.39812617, 1010.66666667,  792.93520716])"
      ]
     },
     "execution_count": 27,
     "metadata": {},
     "output_type": "execute_result"
    }
   ],
   "source": [
    "# tie for first place in three-player matchup\n",
    "elo.get_new_ratings([1200, 1000, 800], result_order=[1, 1, 2])"
   ]
  },
  {
   "cell_type": "code",
   "execution_count": 28,
   "metadata": {},
   "outputs": [
    {
     "data": {
      "text/plain": [
       "array([1207.06479284,  989.33333333,  803.60187383])"
      ]
     },
     "execution_count": 28,
     "metadata": {},
     "output_type": "execute_result"
    }
   ],
   "source": [
    "# tie for last place in three-player matchup\n",
    "elo.get_new_ratings([1200, 1000, 800], result_order=[1, 2, 2])"
   ]
  },
  {
   "cell_type": "code",
   "execution_count": 29,
   "metadata": {},
   "outputs": [
    {
     "data": {
      "text/plain": [
       "array([1185.7314595, 1000.       ,  814.2685405])"
      ]
     },
     "execution_count": 29,
     "metadata": {},
     "output_type": "execute_result"
    }
   ],
   "source": [
    "# three-way tie in three-player matchup\n",
    "elo.get_new_ratings([1200, 1000, 800], result_order=[1, 1, 1])"
   ]
  },
  {
   "cell_type": "markdown",
   "metadata": {},
   "source": [
    "# saving and loading ratings / batch processing <a name=\"5\"></a>\n",
    "\n",
    "It is possible save and load (or export and import) ratings from a `Tracker` object to allow for a \"batch processing\" workflow:\n",
    "1. Process data from the first time period.\n",
    "2. Export current ratings for all players.\n",
    "3. When new data is available some time later, import the current ratings and process *only the new data* (rather than all data from the beginning).\n",
    "4. Repeat as needed."
   ]
  },
  {
   "cell_type": "code",
   "execution_count": 30,
   "metadata": {},
   "outputs": [],
   "source": [
    "tracker = Tracker()\n",
    "tracker.process_data(data)  # data was defined previously\n",
    "\n",
    "# save the data (use whatever file extension you want... it's technically a pickle file)\n",
    "tracker.save_player_data(\"./example_player_data.elo\")"
   ]
  },
  {
   "cell_type": "code",
   "execution_count": 31,
   "metadata": {},
   "outputs": [
    {
     "data": {
      "text/html": [
       "<div>\n",
       "<style scoped>\n",
       "    .dataframe tbody tr th:only-of-type {\n",
       "        vertical-align: middle;\n",
       "    }\n",
       "\n",
       "    .dataframe tbody tr th {\n",
       "        vertical-align: top;\n",
       "    }\n",
       "\n",
       "    .dataframe thead th {\n",
       "        text-align: right;\n",
       "    }\n",
       "</style>\n",
       "<table border=\"1\" class=\"dataframe\">\n",
       "  <thead>\n",
       "    <tr style=\"text-align: right;\">\n",
       "      <th></th>\n",
       "      <th>rank</th>\n",
       "      <th>player_id</th>\n",
       "      <th>n_games</th>\n",
       "      <th>rating</th>\n",
       "    </tr>\n",
       "  </thead>\n",
       "  <tbody>\n",
       "    <tr>\n",
       "      <th>0</th>\n",
       "      <td>1</td>\n",
       "      <td>Lisa</td>\n",
       "      <td>4</td>\n",
       "      <td>1048.347519</td>\n",
       "    </tr>\n",
       "    <tr>\n",
       "      <th>1</th>\n",
       "      <td>2</td>\n",
       "      <td>Marge</td>\n",
       "      <td>5</td>\n",
       "      <td>1030.534457</td>\n",
       "    </tr>\n",
       "    <tr>\n",
       "      <th>2</th>\n",
       "      <td>3</td>\n",
       "      <td>Ned</td>\n",
       "      <td>2</td>\n",
       "      <td>1012.775331</td>\n",
       "    </tr>\n",
       "    <tr>\n",
       "      <th>3</th>\n",
       "      <td>4</td>\n",
       "      <td>Bart</td>\n",
       "      <td>3</td>\n",
       "      <td>958.403688</td>\n",
       "    </tr>\n",
       "    <tr>\n",
       "      <th>4</th>\n",
       "      <td>5</td>\n",
       "      <td>Homer</td>\n",
       "      <td>5</td>\n",
       "      <td>949.939005</td>\n",
       "    </tr>\n",
       "  </tbody>\n",
       "</table>\n",
       "</div>"
      ],
      "text/plain": [
       "   rank player_id  n_games       rating\n",
       "0     1      Lisa        4  1048.347519\n",
       "1     2     Marge        5  1030.534457\n",
       "2     3       Ned        2  1012.775331\n",
       "3     4      Bart        3   958.403688\n",
       "4     5     Homer        5   949.939005"
      ]
     },
     "execution_count": 31,
     "metadata": {},
     "output_type": "execute_result"
    }
   ],
   "source": [
    "# come back later when we have new data...\n",
    "new_data = pd.DataFrame({\n",
    "    \"date\": [\"2020-05-01\", \"2020-05-08\"],\n",
    "    \"1st\": [\"Ned\", \"Lisa\"],\n",
    "    \"2nd\": [\"Marge\", \"Marge\"],\n",
    "    \"3rd\": [\"Homer\", \"Ned\"],\n",
    "    \"4th\": [None, \"Homer\"],\n",
    "})\n",
    "\n",
    "# load the current ratings into a new Tracker object\n",
    "new_tracker = Tracker(players=\"./example_player_data.elo\")\n",
    "\n",
    "# process the new data\n",
    "new_tracker.process_data(new_data)\n",
    "\n",
    "new_tracker.get_current_ratings()"
   ]
  },
  {
   "cell_type": "markdown",
   "metadata": {},
   "source": [
    "## deciding whether to save the rating history <a name=\"5a\"></a>\n",
    "\n",
    "Depending on your use case, you may or may not care about the full Elo rating history for each player. By default, the Player and Tracker objects save the full rating history. You may want to disable this behavior for large datasets in order to save memory (and disk space if you are exporting ratings).\n",
    "\n",
    "You can disable the rating history when creating a Tracker object by setting `keep_history=False`. Similarly, when exporting ratings you can set `save_full_history=False`."
   ]
  },
  {
   "cell_type": "code",
   "execution_count": 32,
   "metadata": {},
   "outputs": [],
   "source": [
    "tracker = Tracker(keep_history=False)  # this tracker won't save the full rating history of the players\n",
    "\n",
    "tracker.save_player_data(\"/dev/null\", save_full_history=False)  # this will only export the current ratings"
   ]
  },
  {
   "cell_type": "markdown",
   "metadata": {
    "tags": []
   },
   "source": [
    "# logging <a name=\"6\"></a>"
   ]
  },
  {
   "cell_type": "markdown",
   "metadata": {},
   "source": [
    "The `MultiElo` and `Tracker` objects have loggers that output information about the computations. Set the loggers to INFO or DEBUG for verbose output."
   ]
  },
  {
   "cell_type": "code",
   "execution_count": 33,
   "metadata": {},
   "outputs": [],
   "source": [
    "import logging\n",
    "\n",
    "logging.basicConfig()\n",
    "logging.getLogger(\"multielo\").setLevel(logging.INFO)"
   ]
  },
  {
   "cell_type": "code",
   "execution_count": 34,
   "metadata": {},
   "outputs": [
    {
     "name": "stderr",
     "output_type": "stream",
     "text": [
      "INFO:multielo.player_tracker:Created Tracker with Elo parameters K=32, D=400\n",
      "INFO:multielo.player_tracker:created player with ID Homer and rating 1000\n",
      "INFO:multielo.player_tracker:created player with ID Marge and rating 1000\n",
      "INFO:multielo.player_tracker:created player with ID Bart and rating 1000\n",
      "INFO:multielo.player_tracker:processing rating changes for date 2020-03-29...\n",
      "INFO:multielo.player_tracker:Updating rating for Homer: 1000.000 --> 1021.333\n",
      "INFO:multielo.player_tracker:Updating rating for Marge: 1000.000 --> 1000.000\n",
      "INFO:multielo.player_tracker:Updating rating for Bart: 1000.000 --> 978.667\n",
      "INFO:multielo.player_tracker:created player with ID Lisa and rating 1000\n",
      "INFO:multielo.player_tracker:processing rating changes for date 2020-04-05...\n",
      "INFO:multielo.player_tracker:Updating rating for Lisa: 1000.000 --> 1021.333\n",
      "INFO:multielo.player_tracker:Updating rating for Bart: 978.667 --> 980.624\n",
      "INFO:multielo.player_tracker:Updating rating for Homer: 1021.333 --> 998.042\n",
      "INFO:multielo.player_tracker:processing rating changes for date 2020-04-12...\n",
      "INFO:multielo.player_tracker:Updating rating for Lisa: 1021.333 --> 1043.374\n",
      "INFO:multielo.player_tracker:Updating rating for Marge: 1000.000 --> 1008.000\n",
      "INFO:multielo.player_tracker:Updating rating for Homer: 998.042 --> 990.222\n",
      "INFO:multielo.player_tracker:Updating rating for Bart: 980.624 --> 958.404\n",
      "INFO:multielo.player_tracker:processing rating changes for date 2020-04-19...\n",
      "INFO:multielo.player_tracker:Updating rating for Marge: 1008.000 --> 1025.623\n",
      "INFO:multielo.player_tracker:Updating rating for Lisa: 1043.374 --> 1025.751\n"
     ]
    },
    {
     "data": {
      "text/html": [
       "<div>\n",
       "<style scoped>\n",
       "    .dataframe tbody tr th:only-of-type {\n",
       "        vertical-align: middle;\n",
       "    }\n",
       "\n",
       "    .dataframe tbody tr th {\n",
       "        vertical-align: top;\n",
       "    }\n",
       "\n",
       "    .dataframe thead th {\n",
       "        text-align: right;\n",
       "    }\n",
       "</style>\n",
       "<table border=\"1\" class=\"dataframe\">\n",
       "  <thead>\n",
       "    <tr style=\"text-align: right;\">\n",
       "      <th></th>\n",
       "      <th>rank</th>\n",
       "      <th>player_id</th>\n",
       "      <th>n_games</th>\n",
       "      <th>rating</th>\n",
       "    </tr>\n",
       "  </thead>\n",
       "  <tbody>\n",
       "    <tr>\n",
       "      <th>0</th>\n",
       "      <td>1</td>\n",
       "      <td>Lisa</td>\n",
       "      <td>3</td>\n",
       "      <td>1025.750704</td>\n",
       "    </tr>\n",
       "    <tr>\n",
       "      <th>1</th>\n",
       "      <td>2</td>\n",
       "      <td>Marge</td>\n",
       "      <td>3</td>\n",
       "      <td>1025.623287</td>\n",
       "    </tr>\n",
       "    <tr>\n",
       "      <th>2</th>\n",
       "      <td>3</td>\n",
       "      <td>Homer</td>\n",
       "      <td>3</td>\n",
       "      <td>990.222321</td>\n",
       "    </tr>\n",
       "    <tr>\n",
       "      <th>3</th>\n",
       "      <td>4</td>\n",
       "      <td>Bart</td>\n",
       "      <td>3</td>\n",
       "      <td>958.403688</td>\n",
       "    </tr>\n",
       "  </tbody>\n",
       "</table>\n",
       "</div>"
      ],
      "text/plain": [
       "   rank player_id  n_games       rating\n",
       "0     1      Lisa        3  1025.750704\n",
       "1     2     Marge        3  1025.623287\n",
       "2     3     Homer        3   990.222321\n",
       "3     4      Bart        3   958.403688"
      ]
     },
     "execution_count": 34,
     "metadata": {},
     "output_type": "execute_result"
    }
   ],
   "source": [
    "elo = MultiElo()\n",
    "tracker = Tracker(elo)\n",
    "tracker.process_data(data)\n",
    "tracker.get_current_ratings()"
   ]
  },
  {
   "cell_type": "code",
   "execution_count": null,
   "metadata": {},
   "outputs": [],
   "source": []
  }
 ],
 "metadata": {
  "kernelspec": {
   "display_name": "venv_multielo",
   "language": "python",
   "name": "venv_multielo"
  },
  "language_info": {
   "codemirror_mode": {
    "name": "ipython",
    "version": 3
   },
   "file_extension": ".py",
   "mimetype": "text/x-python",
   "name": "python",
   "nbconvert_exporter": "python",
   "pygments_lexer": "ipython3",
   "version": "3.9.1"
  }
 },
 "nbformat": 4,
 "nbformat_minor": 4
}
