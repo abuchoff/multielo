{
 "cells": [
  {
   "cell_type": "markdown",
   "metadata": {},
   "source": [
    "# import libraries"
   ]
  },
  {
   "cell_type": "code",
   "execution_count": 1,
   "metadata": {},
   "outputs": [],
   "source": [
    "from multielo import MultiElo, Player, Tracker\n",
    "import pandas as pd"
   ]
  },
  {
   "cell_type": "markdown",
   "metadata": {},
   "source": [
    "# using `MultiElo` to calculate changes in Elo ratings"
   ]
  },
  {
   "cell_type": "markdown",
   "metadata": {},
   "source": [
    "Elo has a few parameters that need to be set. I picked some arbitrary but pretty standard values. (Except the scoring function -- that isn't part of standard 1-vs-1 Elo.)\n",
    "\n",
    "The parameters are discussed in more detail in the README."
   ]
  },
  {
   "cell_type": "code",
   "execution_count": 2,
   "metadata": {},
   "outputs": [
    {
     "data": {
      "text/plain": [
       "{'INITIAL_RATING': 1000,\n",
       " 'K_VALUE': 32,\n",
       " 'D_VALUE': 400,\n",
       " 'SCORING_FUNCTION_BASE': 1}"
      ]
     },
     "execution_count": 2,
     "metadata": {},
     "output_type": "execute_result"
    }
   ],
   "source": [
    "from multielo.multielo import defaults\n",
    "\n",
    "defaults"
   ]
  },
  {
   "cell_type": "markdown",
   "metadata": {},
   "source": [
    "Suppose we have a matchup where a player with an Elo rating of 1200 beats a player with an Elo rating of 1000. We can use the get_new_ratings method to calculate the new Elo ratings for those players. The ratings should be listed in the order of finish."
   ]
  },
  {
   "cell_type": "code",
   "execution_count": 3,
   "metadata": {},
   "outputs": [
    {
     "data": {
      "text/plain": [
       "array([1207.68809835,  992.31190165])"
      ]
     },
     "execution_count": 3,
     "metadata": {},
     "output_type": "execute_result"
    }
   ],
   "source": [
    "result = [1200, 1000]\n",
    "\n",
    "elo = MultiElo()  # uses the default parameter values if nothing is supplied\n",
    "elo.get_new_ratings(result)"
   ]
  },
  {
   "cell_type": "markdown",
   "metadata": {},
   "source": [
    "We can pass different parameter values to the MultiElo object if we don't want to use the default values."
   ]
  },
  {
   "cell_type": "code",
   "execution_count": 4,
   "metadata": {},
   "outputs": [
    {
     "data": {
      "text/plain": [
       "array([1223.03584001,  976.96415999])"
      ]
     },
     "execution_count": 4,
     "metadata": {},
     "output_type": "execute_result"
    }
   ],
   "source": [
    "elo_custom = MultiElo(k_value=64, d_value=800)\n",
    "elo_custom.get_new_ratings(result)"
   ]
  },
  {
   "cell_type": "markdown",
   "metadata": {},
   "source": [
    "We can also use the get_expected_scores method to get the expected scores for each player (in 1-on-1 matchups, this can be interpreted as the predicted win probability)."
   ]
  },
  {
   "cell_type": "code",
   "execution_count": 5,
   "metadata": {},
   "outputs": [
    {
     "data": {
      "text/plain": [
       "array([0.75974693, 0.24025307])"
      ]
     },
     "execution_count": 5,
     "metadata": {},
     "output_type": "execute_result"
    }
   ],
   "source": [
    "elo.get_expected_scores(result)"
   ]
  },
  {
   "cell_type": "markdown",
   "metadata": {},
   "source": [
    "We can calculate expected scores and new Elo ratings for multiplayer matchups using the same `MultiElo` object. The methodology behind this implementation of multiplayer Elo is described in the README. In this four-player example, a player with a 1200 rating comes in 1st, 1000 comes in second, 800 comes in third, and 900 comes in last."
   ]
  },
  {
   "cell_type": "code",
   "execution_count": 6,
   "metadata": {},
   "outputs": [],
   "source": [
    "multiplayer_result = [1200, 1000, 800, 900]"
   ]
  },
  {
   "cell_type": "code",
   "execution_count": 7,
   "metadata": {},
   "outputs": [
    {
     "data": {
      "text/plain": [
       "array([1207.71426754, 1005.75896   ,  804.94244537,  881.58432708])"
      ]
     },
     "execution_count": 7,
     "metadata": {},
     "output_type": "execute_result"
    }
   ],
   "source": [
    "elo.get_new_ratings(multiplayer_result)"
   ]
  },
  {
   "cell_type": "code",
   "execution_count": 8,
   "metadata": {},
   "outputs": [
    {
     "data": {
      "text/plain": [
       "array([0.41964305, 0.27334417, 0.11518286, 0.19182993])"
      ]
     },
     "execution_count": 8,
     "metadata": {},
     "output_type": "execute_result"
    }
   ],
   "source": [
    "# the expected scores are less interpretable than the 1-on-1 case\n",
    "elo.get_expected_scores(multiplayer_result)"
   ]
  },
  {
   "cell_type": "markdown",
   "metadata": {},
   "source": [
    "Given the ratings of all players involved in a game, we can estimate the probability of each player finishing in each possible place (1st, 2nd, ..., last). **Note:** This calculation is done using a simulation so the probabilities will not be exact and they may change if you use a different random seed."
   ]
  },
  {
   "cell_type": "code",
   "execution_count": 9,
   "metadata": {},
   "outputs": [
    {
     "data": {
      "text/plain": [
       "array([[0.62559, 0.27766, 0.08406, 0.01269],\n",
       "       [0.19977, 0.37073, 0.30073, 0.12877],\n",
       "       [0.06261, 0.12988, 0.24367, 0.56384],\n",
       "       [0.11203, 0.22173, 0.37154, 0.2947 ]])"
      ]
     },
     "execution_count": 9,
     "metadata": {},
     "output_type": "execute_result"
    }
   ],
   "source": [
    "# (i, j) value is probability that player i finishes in place j\n",
    "elo.simulate_win_probabilities([1200, 1000, 800, 900])"
   ]
  },
  {
   "cell_type": "markdown",
   "metadata": {},
   "source": [
    "# using `Player` and `Tracker` to track ratings over time"
   ]
  },
  {
   "cell_type": "markdown",
   "metadata": {},
   "source": [
    "The package includes two objects -- `Player` and `Tracker` -- that make it easy to track Elo ratings over time. For example, if you have a league with players or teams that play each other multiple times, the `Tracker` object is useful."
   ]
  },
  {
   "cell_type": "markdown",
   "metadata": {},
   "source": [
    "## the `Player` object\n",
    "\n",
    "This object track's a single player's Elo rating over time. Each player requires a player ID and you can supply an initial rating or the default value will be used."
   ]
  },
  {
   "cell_type": "code",
   "execution_count": 10,
   "metadata": {},
   "outputs": [],
   "source": [
    "player_default = Player(\"player_A\")\n",
    "player_custom = Player(\"player_B\", rating=1200)"
   ]
  },
  {
   "cell_type": "code",
   "execution_count": 11,
   "metadata": {},
   "outputs": [
    {
     "data": {
      "text/plain": [
       "(Player(id = player_A, rating = 1000, n_games = 0),\n",
       " Player(id = player_B, rating = 1200, n_games = 0))"
      ]
     },
     "execution_count": 11,
     "metadata": {},
     "output_type": "execute_result"
    }
   ],
   "source": [
    "player_default, player_custom"
   ]
  },
  {
   "cell_type": "markdown",
   "metadata": {},
   "source": [
    "We can update a player's rating with the update_rating method. Specifying a date will record the change as a game result. Dates can be any sortable value such that sorting in ascending order will order the dates from earliest to latest -- strings in \"YYYY-MM-DD\" format or integers work well."
   ]
  },
  {
   "cell_type": "code",
   "execution_count": 12,
   "metadata": {},
   "outputs": [
    {
     "data": {
      "text/plain": [
       "Player(id = player_A, rating = 1075, n_games = 2)"
      ]
     },
     "execution_count": 12,
     "metadata": {},
     "output_type": "execute_result"
    }
   ],
   "source": [
    "player_default.update_rating(1050, date=\"2020-07-01\")\n",
    "player_default.update_rating(1075, date=\"2020-07-15\")\n",
    "\n",
    "player_default"
   ]
  },
  {
   "cell_type": "markdown",
   "metadata": {},
   "source": [
    "The rating_history attribute displays the Elo rating history for the player. Each entry is a (date, rating) tuple. The first entry is assumed to be an initial rating before any games were played and all subsequent entries will be counted as games."
   ]
  },
  {
   "cell_type": "code",
   "execution_count": 13,
   "metadata": {},
   "outputs": [
    {
     "data": {
      "text/plain": [
       "[(None, 1000), ('2020-07-01', 1050), ('2020-07-15', 1075)]"
      ]
     },
     "execution_count": 13,
     "metadata": {},
     "output_type": "execute_result"
    }
   ],
   "source": [
    "player_default.rating_history"
   ]
  },
  {
   "cell_type": "code",
   "execution_count": 14,
   "metadata": {},
   "outputs": [
    {
     "data": {
      "text/plain": [
       "2"
      ]
     },
     "execution_count": 14,
     "metadata": {},
     "output_type": "execute_result"
    }
   ],
   "source": [
    "player_default.count_games()"
   ]
  },
  {
   "cell_type": "markdown",
   "metadata": {},
   "source": [
    "We can also obtain the player's rating as of any date using the get_rating_as_of_date method."
   ]
  },
  {
   "cell_type": "code",
   "execution_count": 15,
   "metadata": {},
   "outputs": [
    {
     "data": {
      "text/plain": [
       "1050"
      ]
     },
     "execution_count": 15,
     "metadata": {},
     "output_type": "execute_result"
    }
   ],
   "source": [
    "player_default.get_rating_as_of_date(\"2020-07-05\")"
   ]
  },
  {
   "cell_type": "markdown",
   "metadata": {},
   "source": [
    "## the `Tracker` object\n",
    "\n",
    "This object stores multiple `Player` objects and updates the ratings of those players as matchups occur. The tracker is useful for processing many matchup matchup results and viewing the historical Elo ratings of all players in the tracker (e.g., all players/teams in a league).\n",
    "\n",
    "A pandas dataframe of results is required for the tracker. The dataframe must have a column for the date of the matchup and columns for the places that players finished in for that matchup. The place columns can be named anything, but it is assumed that 1st to last goes from the leftmost column to the rightmost column. Note that there can be a different number of players in each matchup."
   ]
  },
  {
   "cell_type": "code",
   "execution_count": 16,
   "metadata": {},
   "outputs": [
    {
     "data": {
      "text/html": [
       "<div>\n",
       "<style scoped>\n",
       "    .dataframe tbody tr th:only-of-type {\n",
       "        vertical-align: middle;\n",
       "    }\n",
       "\n",
       "    .dataframe tbody tr th {\n",
       "        vertical-align: top;\n",
       "    }\n",
       "\n",
       "    .dataframe thead th {\n",
       "        text-align: right;\n",
       "    }\n",
       "</style>\n",
       "<table border=\"1\" class=\"dataframe\">\n",
       "  <thead>\n",
       "    <tr style=\"text-align: right;\">\n",
       "      <th></th>\n",
       "      <th>date</th>\n",
       "      <th>1st</th>\n",
       "      <th>2nd</th>\n",
       "      <th>3rd</th>\n",
       "      <th>4th</th>\n",
       "    </tr>\n",
       "  </thead>\n",
       "  <tbody>\n",
       "    <tr>\n",
       "      <th>0</th>\n",
       "      <td>2020-03-29</td>\n",
       "      <td>Homer</td>\n",
       "      <td>Marge</td>\n",
       "      <td>Bart</td>\n",
       "      <td>None</td>\n",
       "    </tr>\n",
       "    <tr>\n",
       "      <th>1</th>\n",
       "      <td>2020-04-05</td>\n",
       "      <td>Lisa</td>\n",
       "      <td>Bart</td>\n",
       "      <td>Homer</td>\n",
       "      <td>None</td>\n",
       "    </tr>\n",
       "    <tr>\n",
       "      <th>2</th>\n",
       "      <td>2020-04-12</td>\n",
       "      <td>Lisa</td>\n",
       "      <td>Marge</td>\n",
       "      <td>Homer</td>\n",
       "      <td>Bart</td>\n",
       "    </tr>\n",
       "    <tr>\n",
       "      <th>3</th>\n",
       "      <td>2020-04-19</td>\n",
       "      <td>Marge</td>\n",
       "      <td>Lisa</td>\n",
       "      <td>None</td>\n",
       "      <td>None</td>\n",
       "    </tr>\n",
       "  </tbody>\n",
       "</table>\n",
       "</div>"
      ],
      "text/plain": [
       "         date    1st    2nd    3rd   4th\n",
       "0  2020-03-29  Homer  Marge   Bart  None\n",
       "1  2020-04-05   Lisa   Bart  Homer  None\n",
       "2  2020-04-12   Lisa  Marge  Homer  Bart\n",
       "3  2020-04-19  Marge   Lisa   None  None"
      ]
     },
     "execution_count": 16,
     "metadata": {},
     "output_type": "execute_result"
    }
   ],
   "source": [
    "data = pd.DataFrame({\n",
    "    \"date\": [\"2020-03-29\", \"2020-04-05\", \"2020-04-12\", \"2020-04-19\"],\n",
    "    \"1st\": [\"Homer\", \"Lisa\", \"Lisa\", \"Marge\"],\n",
    "    \"2nd\": [\"Marge\", \"Bart\", \"Marge\", \"Lisa\"],\n",
    "    \"3rd\": [\"Bart\", \"Homer\", \"Homer\", None],\n",
    "    \"4th\": [None, None, \"Bart\", None]\n",
    "})\n",
    "\n",
    "data"
   ]
  },
  {
   "cell_type": "markdown",
   "metadata": {},
   "source": [
    "The process_data method is used to calculate the current and historical ratings for all players. The tracker will loop through the supplied dataframe from the earliest to latest date and update Elo for all players involved in each matchup. New `Player` objects will be created when a player ID (the name in the dataframe) is encountered for the first time. "
   ]
  },
  {
   "cell_type": "code",
   "execution_count": 17,
   "metadata": {},
   "outputs": [],
   "source": [
    "tracker = Tracker()\n",
    "tracker.process_data(data)"
   ]
  },
  {
   "cell_type": "markdown",
   "metadata": {},
   "source": [
    "After processing the data we can easily view the current and historical ratings for all players."
   ]
  },
  {
   "cell_type": "code",
   "execution_count": 18,
   "metadata": {},
   "outputs": [
    {
     "data": {
      "text/html": [
       "<div>\n",
       "<style scoped>\n",
       "    .dataframe tbody tr th:only-of-type {\n",
       "        vertical-align: middle;\n",
       "    }\n",
       "\n",
       "    .dataframe tbody tr th {\n",
       "        vertical-align: top;\n",
       "    }\n",
       "\n",
       "    .dataframe thead th {\n",
       "        text-align: right;\n",
       "    }\n",
       "</style>\n",
       "<table border=\"1\" class=\"dataframe\">\n",
       "  <thead>\n",
       "    <tr style=\"text-align: right;\">\n",
       "      <th></th>\n",
       "      <th>rank</th>\n",
       "      <th>player_id</th>\n",
       "      <th>n_games</th>\n",
       "      <th>rating</th>\n",
       "    </tr>\n",
       "  </thead>\n",
       "  <tbody>\n",
       "    <tr>\n",
       "      <th>0</th>\n",
       "      <td>1</td>\n",
       "      <td>Lisa</td>\n",
       "      <td>3</td>\n",
       "      <td>1025.750704</td>\n",
       "    </tr>\n",
       "    <tr>\n",
       "      <th>1</th>\n",
       "      <td>2</td>\n",
       "      <td>Marge</td>\n",
       "      <td>3</td>\n",
       "      <td>1025.623287</td>\n",
       "    </tr>\n",
       "    <tr>\n",
       "      <th>2</th>\n",
       "      <td>3</td>\n",
       "      <td>Homer</td>\n",
       "      <td>3</td>\n",
       "      <td>990.222321</td>\n",
       "    </tr>\n",
       "    <tr>\n",
       "      <th>3</th>\n",
       "      <td>4</td>\n",
       "      <td>Bart</td>\n",
       "      <td>3</td>\n",
       "      <td>958.403688</td>\n",
       "    </tr>\n",
       "  </tbody>\n",
       "</table>\n",
       "</div>"
      ],
      "text/plain": [
       "   rank player_id  n_games       rating\n",
       "0     1      Lisa        3  1025.750704\n",
       "1     2     Marge        3  1025.623287\n",
       "2     3     Homer        3   990.222321\n",
       "3     4      Bart        3   958.403688"
      ]
     },
     "execution_count": 18,
     "metadata": {},
     "output_type": "execute_result"
    }
   ],
   "source": [
    "tracker.get_current_ratings()"
   ]
  },
  {
   "cell_type": "code",
   "execution_count": 19,
   "metadata": {},
   "outputs": [
    {
     "data": {
      "text/html": [
       "<div>\n",
       "<style scoped>\n",
       "    .dataframe tbody tr th:only-of-type {\n",
       "        vertical-align: middle;\n",
       "    }\n",
       "\n",
       "    .dataframe tbody tr th {\n",
       "        vertical-align: top;\n",
       "    }\n",
       "\n",
       "    .dataframe thead th {\n",
       "        text-align: right;\n",
       "    }\n",
       "</style>\n",
       "<table border=\"1\" class=\"dataframe\">\n",
       "  <thead>\n",
       "    <tr style=\"text-align: right;\">\n",
       "      <th></th>\n",
       "      <th>player_id</th>\n",
       "      <th>date</th>\n",
       "      <th>rating</th>\n",
       "    </tr>\n",
       "  </thead>\n",
       "  <tbody>\n",
       "    <tr>\n",
       "      <th>0</th>\n",
       "      <td>Bart</td>\n",
       "      <td>2020-03-29</td>\n",
       "      <td>978.666667</td>\n",
       "    </tr>\n",
       "    <tr>\n",
       "      <th>1</th>\n",
       "      <td>Bart</td>\n",
       "      <td>2020-04-05</td>\n",
       "      <td>980.624172</td>\n",
       "    </tr>\n",
       "    <tr>\n",
       "      <th>2</th>\n",
       "      <td>Bart</td>\n",
       "      <td>2020-04-12</td>\n",
       "      <td>958.403688</td>\n",
       "    </tr>\n",
       "    <tr>\n",
       "      <th>3</th>\n",
       "      <td>Homer</td>\n",
       "      <td>2020-03-29</td>\n",
       "      <td>1021.333333</td>\n",
       "    </tr>\n",
       "    <tr>\n",
       "      <th>4</th>\n",
       "      <td>Homer</td>\n",
       "      <td>2020-04-05</td>\n",
       "      <td>998.042495</td>\n",
       "    </tr>\n",
       "    <tr>\n",
       "      <th>5</th>\n",
       "      <td>Homer</td>\n",
       "      <td>2020-04-12</td>\n",
       "      <td>990.222321</td>\n",
       "    </tr>\n",
       "    <tr>\n",
       "      <th>6</th>\n",
       "      <td>Lisa</td>\n",
       "      <td>2020-04-05</td>\n",
       "      <td>1021.333333</td>\n",
       "    </tr>\n",
       "    <tr>\n",
       "      <th>7</th>\n",
       "      <td>Lisa</td>\n",
       "      <td>2020-04-12</td>\n",
       "      <td>1043.374145</td>\n",
       "    </tr>\n",
       "    <tr>\n",
       "      <th>8</th>\n",
       "      <td>Lisa</td>\n",
       "      <td>2020-04-19</td>\n",
       "      <td>1025.750704</td>\n",
       "    </tr>\n",
       "    <tr>\n",
       "      <th>9</th>\n",
       "      <td>Marge</td>\n",
       "      <td>2020-03-29</td>\n",
       "      <td>1000.000000</td>\n",
       "    </tr>\n",
       "    <tr>\n",
       "      <th>10</th>\n",
       "      <td>Marge</td>\n",
       "      <td>2020-04-12</td>\n",
       "      <td>1007.999846</td>\n",
       "    </tr>\n",
       "    <tr>\n",
       "      <th>11</th>\n",
       "      <td>Marge</td>\n",
       "      <td>2020-04-19</td>\n",
       "      <td>1025.623287</td>\n",
       "    </tr>\n",
       "  </tbody>\n",
       "</table>\n",
       "</div>"
      ],
      "text/plain": [
       "   player_id        date       rating\n",
       "0       Bart  2020-03-29   978.666667\n",
       "1       Bart  2020-04-05   980.624172\n",
       "2       Bart  2020-04-12   958.403688\n",
       "3      Homer  2020-03-29  1021.333333\n",
       "4      Homer  2020-04-05   998.042495\n",
       "5      Homer  2020-04-12   990.222321\n",
       "6       Lisa  2020-04-05  1021.333333\n",
       "7       Lisa  2020-04-12  1043.374145\n",
       "8       Lisa  2020-04-19  1025.750704\n",
       "9      Marge  2020-03-29  1000.000000\n",
       "10     Marge  2020-04-12  1007.999846\n",
       "11     Marge  2020-04-19  1025.623287"
      ]
     },
     "execution_count": 19,
     "metadata": {},
     "output_type": "execute_result"
    }
   ],
   "source": [
    "tracker.get_history_df()"
   ]
  },
  {
   "cell_type": "markdown",
   "metadata": {},
   "source": [
    "It is also easy to plot the Elo rating history of all players over time."
   ]
  },
  {
   "cell_type": "code",
   "execution_count": 20,
   "metadata": {},
   "outputs": [
    {
     "data": {
      "image/png": "[encoded data removed]",
      "text/plain": [
       "<Figure size 640x480 with 1 Axes>"
      ]
     },
     "metadata": {},
     "output_type": "display_data"
    },
    {
     "name": "stdout",
     "output_type": "stream",
     "text": [
      "\n"
     ]
    }
   ],
   "source": [
    "# this package emulates the ggplot2 R package in python\n",
    "# plotting in R >>>>>> plotting in python\n",
    "from plotnine import *\n",
    "\n",
    "df = tracker.get_history_df().copy()\n",
    "df[\"date\"] = pd.to_datetime(df[\"date\"], format=\"%Y-%m-%d\")\n",
    "print(\n",
    "    ggplot(df, aes(x=\"date\", y=\"rating\", color=\"player_id\"))\n",
    "    + geom_line()\n",
    "    + geom_point()\n",
    "    + geom_hline(yintercept=defaults[\"INITIAL_RATING\"], linetype=\"dashed\", alpha=0.5)\n",
    "    + labs(title=\"Elo ratings over time\")\n",
    "    + theme_light()\n",
    "    + theme(axis_text_x=element_text(angle=90, hjust=1))\n",
    ")"
   ]
  },
  {
   "cell_type": "markdown",
   "metadata": {},
   "source": [
    "You can add verbose output from the process_data method by setting the logging level to INFO. The changes in Elo after each step will be printed to the screen (or the specified output device)."
   ]
  },
  {
   "cell_type": "code",
   "execution_count": 21,
   "metadata": {},
   "outputs": [],
   "source": [
    "import logging\n",
    "\n",
    "logging.basicConfig()\n",
    "logger = logging.getLogger(\"my_logger\")\n",
    "logger.setLevel(logging.INFO)"
   ]
  },
  {
   "cell_type": "code",
   "execution_count": 22,
   "metadata": {},
   "outputs": [
    {
     "name": "stderr",
     "output_type": "stream",
     "text": [
      "INFO:my_logger:Created Tracker with Elo paramers K=32, D=400\n",
      "INFO:my_logger:created player with ID Homer and rating 1000\n",
      "INFO:my_logger:created player with ID Marge and rating 1000\n",
      "INFO:my_logger:created player with ID Bart and rating 1000\n",
      "INFO:my_logger:processing rating changes for date 2020-03-29...\n",
      "INFO:my_logger:Updating rating for Homer: 1000.000 --> 1021.333\n",
      "INFO:my_logger:Updating rating for Marge: 1000.000 --> 1000.000\n",
      "INFO:my_logger:Updating rating for Bart: 1000.000 --> 978.667\n",
      "INFO:my_logger:created player with ID Lisa and rating 1000\n",
      "INFO:my_logger:processing rating changes for date 2020-04-05...\n",
      "INFO:my_logger:Updating rating for Lisa: 1000.000 --> 1021.333\n",
      "INFO:my_logger:Updating rating for Bart: 978.667 --> 980.624\n",
      "INFO:my_logger:Updating rating for Homer: 1021.333 --> 998.042\n",
      "INFO:my_logger:processing rating changes for date 2020-04-12...\n",
      "INFO:my_logger:Updating rating for Lisa: 1021.333 --> 1043.374\n",
      "INFO:my_logger:Updating rating for Marge: 1000.000 --> 1008.000\n",
      "INFO:my_logger:Updating rating for Homer: 998.042 --> 990.222\n",
      "INFO:my_logger:Updating rating for Bart: 980.624 --> 958.404\n",
      "INFO:my_logger:processing rating changes for date 2020-04-19...\n",
      "INFO:my_logger:Updating rating for Marge: 1008.000 --> 1025.623\n",
      "INFO:my_logger:Updating rating for Lisa: 1043.374 --> 1025.751\n"
     ]
    },
    {
     "data": {
      "text/html": [
       "<div>\n",
       "<style scoped>\n",
       "    .dataframe tbody tr th:only-of-type {\n",
       "        vertical-align: middle;\n",
       "    }\n",
       "\n",
       "    .dataframe tbody tr th {\n",
       "        vertical-align: top;\n",
       "    }\n",
       "\n",
       "    .dataframe thead th {\n",
       "        text-align: right;\n",
       "    }\n",
       "</style>\n",
       "<table border=\"1\" class=\"dataframe\">\n",
       "  <thead>\n",
       "    <tr style=\"text-align: right;\">\n",
       "      <th></th>\n",
       "      <th>rank</th>\n",
       "      <th>player_id</th>\n",
       "      <th>n_games</th>\n",
       "      <th>rating</th>\n",
       "    </tr>\n",
       "  </thead>\n",
       "  <tbody>\n",
       "    <tr>\n",
       "      <th>0</th>\n",
       "      <td>1</td>\n",
       "      <td>Lisa</td>\n",
       "      <td>3</td>\n",
       "      <td>1025.750704</td>\n",
       "    </tr>\n",
       "    <tr>\n",
       "      <th>1</th>\n",
       "      <td>2</td>\n",
       "      <td>Marge</td>\n",
       "      <td>3</td>\n",
       "      <td>1025.623287</td>\n",
       "    </tr>\n",
       "    <tr>\n",
       "      <th>2</th>\n",
       "      <td>3</td>\n",
       "      <td>Homer</td>\n",
       "      <td>3</td>\n",
       "      <td>990.222321</td>\n",
       "    </tr>\n",
       "    <tr>\n",
       "      <th>3</th>\n",
       "      <td>4</td>\n",
       "      <td>Bart</td>\n",
       "      <td>3</td>\n",
       "      <td>958.403688</td>\n",
       "    </tr>\n",
       "  </tbody>\n",
       "</table>\n",
       "</div>"
      ],
      "text/plain": [
       "   rank player_id  n_games       rating\n",
       "0     1      Lisa        3  1025.750704\n",
       "1     2     Marge        3  1025.623287\n",
       "2     3     Homer        3   990.222321\n",
       "3     4      Bart        3   958.403688"
      ]
     },
     "execution_count": 22,
     "metadata": {},
     "output_type": "execute_result"
    }
   ],
   "source": [
    "tracker = Tracker(logger=logger)\n",
    "tracker.process_data(data)\n",
    "tracker.get_current_ratings()"
   ]
  },
  {
   "cell_type": "code",
   "execution_count": 23,
   "metadata": {},
   "outputs": [],
   "source": [
    "# turn INFO logging back off\n",
    "logger.setLevel(logging.WARNING)"
   ]
  },
  {
   "cell_type": "markdown",
   "metadata": {},
   "source": [
    "By default, the `Tracker` object uses a `MultiElo` object with all default settings to calculate changes in Elo rating. The user can alternatively pass in a `MultiElo` object with any settings, which will affect the results. For example, larger K means rankings change more in each individual matchup."
   ]
  },
  {
   "cell_type": "code",
   "execution_count": 24,
   "metadata": {},
   "outputs": [
    {
     "data": {
      "text/html": [
       "<div>\n",
       "<style scoped>\n",
       "    .dataframe tbody tr th:only-of-type {\n",
       "        vertical-align: middle;\n",
       "    }\n",
       "\n",
       "    .dataframe tbody tr th {\n",
       "        vertical-align: top;\n",
       "    }\n",
       "\n",
       "    .dataframe thead th {\n",
       "        text-align: right;\n",
       "    }\n",
       "</style>\n",
       "<table border=\"1\" class=\"dataframe\">\n",
       "  <thead>\n",
       "    <tr style=\"text-align: right;\">\n",
       "      <th></th>\n",
       "      <th>rank</th>\n",
       "      <th>player_id</th>\n",
       "      <th>n_games</th>\n",
       "      <th>rating</th>\n",
       "    </tr>\n",
       "  </thead>\n",
       "  <tbody>\n",
       "    <tr>\n",
       "      <th>0</th>\n",
       "      <td>1</td>\n",
       "      <td>Marge</td>\n",
       "      <td>3</td>\n",
       "      <td>1117.029251</td>\n",
       "    </tr>\n",
       "    <tr>\n",
       "      <th>1</th>\n",
       "      <td>2</td>\n",
       "      <td>Lisa</td>\n",
       "      <td>3</td>\n",
       "      <td>1065.955505</td>\n",
       "    </tr>\n",
       "    <tr>\n",
       "      <th>2</th>\n",
       "      <td>3</td>\n",
       "      <td>Homer</td>\n",
       "      <td>3</td>\n",
       "      <td>948.872182</td>\n",
       "    </tr>\n",
       "    <tr>\n",
       "      <th>3</th>\n",
       "      <td>4</td>\n",
       "      <td>Bart</td>\n",
       "      <td>3</td>\n",
       "      <td>868.143061</td>\n",
       "    </tr>\n",
       "  </tbody>\n",
       "</table>\n",
       "</div>"
      ],
      "text/plain": [
       "   rank player_id  n_games       rating\n",
       "0     1     Marge        3  1117.029251\n",
       "1     2      Lisa        3  1065.955505\n",
       "2     3     Homer        3   948.872182\n",
       "3     4      Bart        3   868.143061"
      ]
     },
     "execution_count": 24,
     "metadata": {},
     "output_type": "execute_result"
    }
   ],
   "source": [
    "k = 128\n",
    "bigk_elo = MultiElo(k_value=k)\n",
    "bigk_tracker = Tracker(elo_rater=bigk_elo)\n",
    "bigk_tracker.process_data(data)\n",
    "\n",
    "bigk_tracker.get_current_ratings()"
   ]
  },
  {
   "cell_type": "markdown",
   "metadata": {},
   "source": [
    "The chosen scoring function has a large effect on the rankings because it determines the relative value of finishing first, second, third, etc. The default scoring function (the \"linear score function\") used in the example above doesn't provide proportionally more value to finishing first (i.e., moving from 6th to 5th is as good as improving from 2nd to 1st).\n",
    "\n",
    "To provide more value to the top finishers, we can use an \"exponential score function\". The example below uses an exponential score function with a base of 1.5. Note that the final rating values are different from the example using the linear score function above."
   ]
  },
  {
   "cell_type": "code",
   "execution_count": 25,
   "metadata": {},
   "outputs": [
    {
     "data": {
      "text/html": [
       "<div>\n",
       "<style scoped>\n",
       "    .dataframe tbody tr th:only-of-type {\n",
       "        vertical-align: middle;\n",
       "    }\n",
       "\n",
       "    .dataframe tbody tr th {\n",
       "        vertical-align: top;\n",
       "    }\n",
       "\n",
       "    .dataframe thead th {\n",
       "        text-align: right;\n",
       "    }\n",
       "</style>\n",
       "<table border=\"1\" class=\"dataframe\">\n",
       "  <thead>\n",
       "    <tr style=\"text-align: right;\">\n",
       "      <th></th>\n",
       "      <th>rank</th>\n",
       "      <th>player_id</th>\n",
       "      <th>n_games</th>\n",
       "      <th>rating</th>\n",
       "    </tr>\n",
       "  </thead>\n",
       "  <tbody>\n",
       "    <tr>\n",
       "      <th>0</th>\n",
       "      <td>1</td>\n",
       "      <td>Lisa</td>\n",
       "      <td>3</td>\n",
       "      <td>1035.161374</td>\n",
       "    </tr>\n",
       "    <tr>\n",
       "      <th>1</th>\n",
       "      <td>2</td>\n",
       "      <td>Marge</td>\n",
       "      <td>3</td>\n",
       "      <td>1020.663059</td>\n",
       "    </tr>\n",
       "    <tr>\n",
       "      <th>2</th>\n",
       "      <td>3</td>\n",
       "      <td>Homer</td>\n",
       "      <td>3</td>\n",
       "      <td>988.457875</td>\n",
       "    </tr>\n",
       "    <tr>\n",
       "      <th>3</th>\n",
       "      <td>4</td>\n",
       "      <td>Bart</td>\n",
       "      <td>3</td>\n",
       "      <td>955.717692</td>\n",
       "    </tr>\n",
       "  </tbody>\n",
       "</table>\n",
       "</div>"
      ],
      "text/plain": [
       "   rank player_id  n_games       rating\n",
       "0     1      Lisa        3  1035.161374\n",
       "1     2     Marge        3  1020.663059\n",
       "2     3     Homer        3   988.457875\n",
       "3     4      Bart        3   955.717692"
      ]
     },
     "execution_count": 25,
     "metadata": {},
     "output_type": "execute_result"
    }
   ],
   "source": [
    "exp_elo = MultiElo(score_function_base=1.5)\n",
    "exp_tracker = Tracker(elo_rater=exp_elo)\n",
    "exp_tracker.process_data(data)\n",
    "\n",
    "exp_tracker.get_current_ratings()"
   ]
  },
  {
   "cell_type": "markdown",
   "metadata": {},
   "source": [
    "..."
   ]
  },
  {
   "cell_type": "markdown",
   "metadata": {},
   "source": [
    "These are the packages and versions installed in this environment."
   ]
  },
  {
   "cell_type": "code",
   "execution_count": 26,
   "metadata": {},
   "outputs": [
    {
     "name": "stdout",
     "output_type": "stream",
     "text": [
      "appnope==0.1.2\n",
      "attrs==20.3.0\n",
      "backcall==0.2.0\n",
      "cycler==0.10.0\n",
      "decorator==5.0.7\n",
      "descartes==1.1.0\n",
      "iniconfig==1.1.1\n",
      "ipykernel==5.5.3\n",
      "ipython==7.22.0\n",
      "ipython-genutils==0.2.0\n",
      "jedi==0.18.0\n",
      "jupyter-client==6.1.12\n",
      "jupyter-core==4.7.1\n",
      "kiwisolver==1.3.1\n",
      "matplotlib==3.4.1\n",
      "mizani==0.7.3\n",
      "numpy==1.20.2\n",
      "packaging==20.9\n",
      "palettable==3.3.0\n",
      "pandas==1.2.4\n",
      "parso==0.8.2\n",
      "patsy==0.5.1\n",
      "pexpect==4.8.0\n",
      "pickleshare==0.7.5\n",
      "Pillow==8.2.0\n",
      "plotnine==0.8.0\n",
      "pluggy==0.13.1\n",
      "prompt-toolkit==3.0.18\n",
      "ptyprocess==0.7.0\n",
      "py==1.10.0\n",
      "Pygments==2.8.1\n",
      "pyparsing==2.4.7\n",
      "pytest==6.2.3\n",
      "python-dateutil==2.8.1\n",
      "pytz==2021.1\n",
      "pyzmq==22.0.3\n",
      "scipy==1.6.2\n",
      "six==1.15.0\n",
      "statsmodels==0.12.2\n",
      "toml==0.10.2\n",
      "tornado==6.1\n",
      "traitlets==5.0.5\n",
      "wcwidth==0.2.5\n",
      "Note: you may need to restart the kernel to use updated packages.\n"
     ]
    }
   ],
   "source": [
    "pip freeze"
   ]
  }
 ],
 "metadata": {
  "kernelspec": {
   "display_name": "venv_multielo",
   "language": "python",
   "name": "venv_multielo"
  },
  "language_info": {
   "codemirror_mode": {
    "name": "ipython",
    "version": 3
   },
   "file_extension": ".py",
   "mimetype": "text/x-python",
   "name": "python",
   "nbconvert_exporter": "python",
   "pygments_lexer": "ipython3",
   "version": "3.9.1"
  }
 },
 "nbformat": 4,
 "nbformat_minor": 2
}
